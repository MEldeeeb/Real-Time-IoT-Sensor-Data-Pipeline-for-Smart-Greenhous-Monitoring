{
 "cells": [
  {
   "cell_type": "code",
   "execution_count": null,
   "id": "97f11b39",
   "metadata": {},
   "outputs": [],
   "source": [
    "%run 05_utils.ipynb\n",
    "# DWH tables and indexes \n",
    "sensor_measurements_table = \"\"\"\n",
    "        CREATE TABLE IF NOT EXISTS sensor_measurements (\n",
    "            measurement_id SERIAL PRIMARY KEY,\n",
    "            sensor_id VARCHAR(10) NOT NULL,\n",
    "            timestamp TIMESTAMP NOT NULL,\n",
    "            sensor_type VARCHAR(30) NOT NULL,\n",
    "            value FLOAT NOT NULL,\n",
    "            location_id VARCHAR(10) NOT NULL,\n",
    "            CONSTRAINT fk_sensor FOREIGN KEY (sensor_id) REFERENCES sensor_dimension (sensor_id) ,\n",
    "            CONSTRAINT fk_location FOREIGN KEY (location_id) REFERENCES location_dimension (location_id),  \n",
    "            CONSTRAINT fk_timestamp FOREIGN KEY (timestamp) REFERENCES time_dimension (timestamp) ); \"\"\"\n",
    "\n",
    "\n",
    "sensor_dimension_table = \"\"\"\n",
    "    CREATE TABLE IF NOT EXISTS sensor_dimension (\n",
    "        sensor_id VARCHAR(10) PRIMARY KEY,\n",
    "        sensor_type VARCHAR(40) NOT NULL,\n",
    "        manufacturer VARCHAR(40),\n",
    "        model VARCHAR(30),\n",
    "        Unit VARCHAR(20) );\"\"\"\n",
    "\n",
    "\n",
    "location_dimension_table = \"\"\"\n",
    "    CREATE TABLE IF NOT EXISTS location_dimension (\n",
    "        location_id VARCHAR(10) PRIMARY KEY,\n",
    "        location_name VARCHAR(100) NOT NULL);\"\"\"\n",
    "\n",
    "\n",
    "time_dimension_table = \"\"\"\n",
    "    CREATE TABLE IF NOT EXISTS time_dimension (\n",
    "        timestamp TIMESTAMP PRIMARY KEY,\n",
    "        weekday VARCHAR(20) NOT NULL,\n",
    "        month INT NOT NULL,\n",
    "        day INT NOT NULL,\n",
    "        hour INT NOT NULL,\n",
    "        minute INT NOT NULL,\n",
    "        second INT NOT NULL,\n",
    "        year INT NOT NULL);\"\"\"\n",
    "\n",
    "\n",
    "l_tables = [time_dimension_table, location_dimension_table,\n",
    "            sensor_dimension_table, sensor_measurements_table]\n"
   ]
  },
  {
   "cell_type": "code",
   "execution_count": 2,
   "id": "dcf3ef7d",
   "metadata": {},
   "outputs": [
    {
     "name": "stdout",
     "output_type": "stream",
     "text": [
      "Connecting to Billing_DWH..... \n",
      "Connection to PostgerSQL is done successfuly\n",
      "conn and cur are created and successfuly returned\n"
     ]
    }
   ],
   "source": [
    "# connect to GH_Sensors_DWH on PostgerSQL\n",
    "conn,cur = connect_to_db(\"GH_Sensors_DWH\") # type: ignore"
   ]
  },
  {
   "cell_type": "code",
   "execution_count": null,
   "id": "a972bb81",
   "metadata": {},
   "outputs": [],
   "source": [
    "# create GH_Sensors_DWH tables \n",
    "for table in l_tables:\n",
    "    cur.execute(table)\n",
    "    conn.commit()\n",
    "\n",
    "\n",
    "cur.close()\n",
    "conn.close()"
   ]
  }
 ],
 "metadata": {
  "kernelspec": {
   "display_name": "base",
   "language": "python",
   "name": "python3"
  },
  "language_info": {
   "codemirror_mode": {
    "name": "ipython",
    "version": 3
   },
   "file_extension": ".py",
   "mimetype": "text/x-python",
   "name": "python",
   "nbconvert_exporter": "python",
   "pygments_lexer": "ipython3",
   "version": "3.9.7"
  }
 },
 "nbformat": 4,
 "nbformat_minor": 5
}
