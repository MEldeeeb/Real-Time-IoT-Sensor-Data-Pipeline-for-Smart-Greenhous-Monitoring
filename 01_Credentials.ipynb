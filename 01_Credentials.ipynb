{
 "cells": [
  {
   "cell_type": "code",
   "execution_count": null,
   "id": "bd6b7724",
   "metadata": {},
   "outputs": [],
   "source": [
    "import os\n",
    "#----------------------------------------------------------------\n",
    "# PostgerSQL credentials \n",
    "os.environ['Password_GH_Sensors_DWH'] = \"************\"\n",
    "os.environ['db_port'] = \"************\"\n",
    "os.environ['user_name'] = \"postgres\"\n",
    "os.environ['db_name'] = \"GH_Sensors_DWH\"\n",
    "os.environ['db_host_name']= \"************\"\n",
    "#----------------------------------------------------------------\n",
    "# Email credentials\n",
    "os.environ['sender_email']= \"************\"\n",
    "os.environ['password']= \"************\"\n",
    "os.environ['reciver_email']= \"************\"\n",
    "#----------------------------------------------------------------\n",
    "os.environ['snowflake_pass'] = \"************\""
   ]
  }
 ],
 "metadata": {
  "kernelspec": {
   "display_name": "base",
   "language": "python",
   "name": "python3"
  },
  "language_info": {
   "codemirror_mode": {
    "name": "ipython",
    "version": 3
   },
   "file_extension": ".py",
   "mimetype": "text/x-python",
   "name": "python",
   "nbconvert_exporter": "python",
   "pygments_lexer": "ipython3",
   "version": "3.9.7"
  }
 },
 "nbformat": 4,
 "nbformat_minor": 5
}
