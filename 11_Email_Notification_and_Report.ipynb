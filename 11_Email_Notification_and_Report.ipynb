{
 "cells": [
  {
   "cell_type": "code",
   "execution_count": null,
   "id": "23896930",
   "metadata": {},
   "outputs": [],
   "source": [
    "%run 01_Credentials.ipynb\n",
    "import smtplib\n",
    "import os\n",
    "from email.message import EmailMessage\n"
   ]
  },
  {
   "cell_type": "code",
   "execution_count": 6,
   "id": "50464a0b",
   "metadata": {},
   "outputs": [],
   "source": [
    "password = os.environ.get(\"password\")\n",
    "sender_email = os.environ.get(\"sender_email\")\n",
    "reciver_email = os.environ.get(\"reciver_email\")"
   ]
  },
  {
   "cell_type": "code",
   "execution_count": 7,
   "id": "2fe0e7f6",
   "metadata": {},
   "outputs": [],
   "source": [
    "def send_email(sender_email, password, reciver_email, subject, body):\n",
    "    msg = EmailMessage()\n",
    "    msg['Subject'] = subject\n",
    "    msg['From'] = sender_email\n",
    "    msg['To'] = reciver_email\n",
    "    msg.set_content(body)\n",
    "\n",
    "    with smtplib.SMTP('smtp.gmail.com', 587) as smtp:\n",
    "        smtp.starttls()\n",
    "        smtp.login(sender_email, password)\n",
    "        smtp.send_message(msg)"
   ]
  }
 ],
 "metadata": {
  "kernelspec": {
   "display_name": "base",
   "language": "python",
   "name": "python3"
  },
  "language_info": {
   "codemirror_mode": {
    "name": "ipython",
    "version": 3
   },
   "file_extension": ".py",
   "mimetype": "text/x-python",
   "name": "python",
   "nbconvert_exporter": "python",
   "pygments_lexer": "ipython3",
   "version": "3.9.7"
  }
 },
 "nbformat": 4,
 "nbformat_minor": 5
}
