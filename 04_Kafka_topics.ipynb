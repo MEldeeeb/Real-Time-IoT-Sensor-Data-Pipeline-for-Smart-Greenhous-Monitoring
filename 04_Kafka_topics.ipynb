{
 "cells": [
  {
   "cell_type": "code",
   "execution_count": 1,
   "id": "ac7fa879",
   "metadata": {},
   "outputs": [],
   "source": [
    "from kafka.admin import KafkaAdminClient,NewTopic # type: ignore\n",
    "\n",
    "# list_of_kafka_topics is a function that prints list of kafka topics exists  \n",
    "def list_of_kafka_topics(admin_client):\n",
    "    topics = admin_client.list_topics() \n",
    "    print(\"list of topics:\")\n",
    "    for topic in topics:\n",
    "        print(topic)\n",
    "\n",
    "#create_kafka_topics is a function that creates a list of kafka topics\n",
    "#list_of_topics_names is a list that contains names of kafka topics that we need to create \n",
    "def create_kafka_topics(list_of_topics_names):\n",
    "    try:\n",
    "        admin_client = KafkaAdminClient(bootstrap_servers=\"localhost:9092\", client_id='test')\n",
    "        topic_list = []\n",
    "        for topic_name in list_of_topics_names:\n",
    "            new_topic = NewTopic(name = topic_name, num_partitions= 1, replication_factor= 1)\n",
    "            topic_list.append(new_topic)\n",
    "        admin_client.create_topics(new_topics=topic_list)\n",
    "        print(\"{} topic has been created succesfuly\".format(topic_name))\n",
    "        list_of_kafka_topics(admin_client)\n",
    "    except:\n",
    "        print(\"{} topic already excist\".format(topic_name)) \n",
    "        list_of_kafka_topics(admin_client)"
   ]
  },
  {
   "cell_type": "code",
   "execution_count": 2,
   "id": "8a70cc83",
   "metadata": {},
   "outputs": [
    {
     "name": "stdout",
     "output_type": "stream",
     "text": [
      "sensors_data topic already excist\n",
      "list of topics:\n",
      "sensors_data\n"
     ]
    }
   ],
   "source": [
    "# create kafka topics \n",
    "list_of_topics = [\"sensors_data\"]\n",
    "create_kafka_topics(list_of_topics)"
   ]
  },
  {
   "cell_type": "code",
   "execution_count": null,
   "id": "0f4bdf4d",
   "metadata": {},
   "outputs": [],
   "source": []
  }
 ],
 "metadata": {
  "kernelspec": {
   "display_name": "base",
   "language": "python",
   "name": "python3"
  },
  "language_info": {
   "codemirror_mode": {
    "name": "ipython",
    "version": 3
   },
   "file_extension": ".py",
   "mimetype": "text/x-python",
   "name": "python",
   "nbconvert_exporter": "python",
   "pygments_lexer": "ipython3",
   "version": "3.9.7"
  }
 },
 "nbformat": 4,
 "nbformat_minor": 5
}
