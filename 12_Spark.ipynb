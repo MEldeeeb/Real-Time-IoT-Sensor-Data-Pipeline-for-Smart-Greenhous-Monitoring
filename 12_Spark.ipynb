{
 "cells": [
  {
   "cell_type": "code",
   "execution_count": 1,
   "id": "57870988",
   "metadata": {},
   "outputs": [],
   "source": [
    "%run 03_HDFS_Data_lake.ipynb\n",
    "%run 05_utils.ipynb\n",
    "%run 11_Email_Notification_and_Report.ipynb\n",
    "import findspark\n",
    "findspark.init() \n",
    "import datetime\n",
    "from datetime import datetime\n",
    "from pyspark.sql import SparkSession\n",
    "from pyspark.sql.functions import avg, min, max, round\n",
    "# from pyspark import SparkConf, SparkContext\n",
    "import csv\n",
    "import os "
   ]
  },
  {
   "cell_type": "code",
   "execution_count": 2,
   "id": "d6283e50",
   "metadata": {},
   "outputs": [],
   "source": [
    "spark = SparkSession.builder.appName(\"GreenhouseSensorData\").getOrCreate()"
   ]
  },
  {
   "cell_type": "code",
   "execution_count": 3,
   "id": "ee1e50bd",
   "metadata": {},
   "outputs": [
    {
     "name": "stdout",
     "output_type": "stream",
     "text": [
      "+---------+--------------------+-----------+------+--------+\n",
      "|sensor_id|           timestamp|sensor_type| value|location|\n",
      "+---------+--------------------+-----------+------+--------+\n",
      "|    CO2_1|2025-06-23 15:26:...|        CO2|1160.0|   GH_1 |\n",
      "|    CO2_1|2025-06-23 15:25:...|        CO2| 701.0|   GH_1 |\n",
      "|    CO2_1|2025-06-23 15:24:...|        CO2|1799.0|   GH_1 |\n",
      "|    CO2_1|2025-06-23 15:27:...|        CO2| 699.0|   GH_1 |\n",
      "|    CO2_1|2025-06-23 15:25:...|        CO2|1119.0|   GH_1 |\n",
      "|    CO2_1|2025-06-23 15:27:...|        CO2|1146.0|   GH_1 |\n",
      "|    CO2_1|2025-06-23 15:27:...|        CO2| 966.0|   GH_1 |\n",
      "|    CO2_1|2025-06-23 15:29:...|        CO2|1345.0|   GH_1 |\n",
      "|    CO2_1|2025-06-23 15:31:...|        CO2| 565.0|   GH_1 |\n",
      "|    CO2_1|2025-06-23 15:31:...|        CO2|1699.0|   GH_1 |\n",
      "|    CO2_1|2025-06-23 15:31:...|        CO2| 949.0|   GH_1 |\n",
      "|    CO2_1|2025-06-23 15:33:...|        CO2| 595.0|   GH_1 |\n",
      "|    CO2_1|2025-06-23 15:33:...|        CO2| 885.0|   GH_1 |\n",
      "|    CO2_1|2025-06-23 15:35:...|        CO2|1144.0|   GH_1 |\n",
      "|    CO2_1|2025-06-23 15:36:...|        CO2|1744.0|   GH_1 |\n",
      "|    CO2_1|2025-06-23 15:36:...|        CO2|1475.0|   GH_1 |\n",
      "|    CO2_1|2025-06-23 15:36:...|        CO2| 815.0|   GH_1 |\n",
      "|    CO2_1|2025-06-23 15:37:...|        CO2| 565.0|   GH_1 |\n",
      "|    CO2_1|2025-06-23 15:37:...|        CO2| 807.0|   GH_1 |\n",
      "|    CO2_1|2025-06-23 15:38:...|        CO2|1295.0|   GH_1 |\n",
      "+---------+--------------------+-----------+------+--------+\n",
      "only showing top 20 rows\n",
      "\n"
     ]
    }
   ],
   "source": [
    "now = datetime.now()\n",
    "\n",
    "hdfs_path = \"hdfs://localhost:9000/Sensors_DL/{}/{}/day_{}.csv\".format(now.year, now.month, now.day)\n",
    "csv_f = spark.read.csv(hdfs_path, header=False , inferSchema=True)\n",
    "column_names = [\"sensor_id\",\"timestamp\", \"sensor_type\", \"value\", \"location\"]\n",
    "df = csv_f.toDF(*column_names)\n",
    "df.sort(\"location\",\"sensor_id\").show()"
   ]
  },
  {
   "cell_type": "code",
   "execution_count": 4,
   "id": "1562585c",
   "metadata": {},
   "outputs": [
    {
     "name": "stdout",
     "output_type": "stream",
     "text": [
      "+---------+--------+-------------+---------+---------+---------+\n",
      "|sensor_id|location|  sensor_type|avg_value|min_value|max_value|\n",
      "+---------+--------+-------------+---------+---------+---------+\n",
      "|    CO2_1|   GH_1 |          CO2|  1073.65|    565.0|   1799.0|\n",
      "|    CO2_2|   GH_2 |          CO2|  1091.42|    549.0|   1731.0|\n",
      "|    CO2_3|   GH_3 |          CO2|   1194.8|    417.0|   1669.0|\n",
      "|      H_1|   GH_1 |     Humidity|     49.8|     20.3|     91.5|\n",
      "|      H_2|   GH_2 |     Humidity|    67.18|     31.7|     92.8|\n",
      "|      H_3|   GH_3 |     Humidity|    53.27|     25.6|     75.3|\n",
      "|      L_1|   GH_1 |        Light|  1287.18|   1209.0|   1339.0|\n",
      "|      L_2|   GH_2 |        Light|  1332.92|   1281.0|   1381.0|\n",
      "|      L_3|   GH_3 |        Light|   1286.5|   1213.0|   1397.0|\n",
      "|     PH_1|   GH_1 |      Soil_pH|     6.88|      3.2|      9.7|\n",
      "|     PH_2|   GH_2 |      Soil_pH|     6.24|      3.7|      9.6|\n",
      "|     PH_3|   GH_3 |      Soil_pH|      6.4|      3.1|      8.3|\n",
      "|     SM_1|   GH_1 |Soil_Moisture|    70.94|     51.6|     95.3|\n",
      "|     SM_2|   GH_2 |Soil_Moisture|    78.48|     51.6|     99.6|\n",
      "|     SM_3|   GH_3 |Soil_Moisture|    75.11|     54.1|     95.4|\n",
      "|      T_1|   GH_1 |  Temperature|    29.73|    21.02|    41.01|\n",
      "|      T_2|   GH_2 |  Temperature|    33.08|    23.26|    41.66|\n",
      "|      T_3|   GH_3 |  Temperature|    29.75|    21.13|    41.93|\n",
      "+---------+--------+-------------+---------+---------+---------+\n",
      "\n"
     ]
    }
   ],
   "source": [
    "avg_readings = df.groupBy(\"sensor_id\",\"location\",\"sensor_type\")\\\n",
    ".agg(\n",
    "    round(avg(\"value\"),2).alias(\"avg_value\"),\n",
    "    min(\"value\").alias(\"min_value\"),\n",
    "    max(\"value\").alias(\"max_value\")\n",
    ").sort(\"sensor_id\",\"location\",\"sensor_type\")\n",
    "avg_readings.show()"
   ]
  },
  {
   "cell_type": "code",
   "execution_count": 5,
   "id": "7a855e4e",
   "metadata": {},
   "outputs": [],
   "source": [
    "report = \"\"\n",
    "counter = 0\n",
    "for row in avg_readings.toLocalIterator():\n",
    "    counter = counter + 1\n",
    "    line = f\"{counter}) The Average {row.sensor_type} level in {row.location}during the day is ----> {row.avg_value}\\n\" \n",
    "    report = report + line\n",
    "    if counter % 3 == 0:\n",
    "         report = report + \"--\"*40 +\"|\\n\"\n",
    "     "
   ]
  },
  {
   "cell_type": "code",
   "execution_count": 6,
   "id": "2eca4c3f",
   "metadata": {},
   "outputs": [
    {
     "name": "stdout",
     "output_type": "stream",
     "text": [
      "This is your daily repory for 2025-6-23\n",
      "1) The Average CO2 level in GH_1 during the day is ----> 1073.65\n",
      "2) The Average CO2 level in GH_2 during the day is ----> 1091.42\n",
      "3) The Average CO2 level in GH_3 during the day is ----> 1194.8\n",
      "--------------------------------------------------------------------------------|\n",
      "4) The Average Humidity level in GH_1 during the day is ----> 49.8\n",
      "5) The Average Humidity level in GH_2 during the day is ----> 67.18\n",
      "6) The Average Humidity level in GH_3 during the day is ----> 53.27\n",
      "--------------------------------------------------------------------------------|\n",
      "7) The Average Light level in GH_1 during the day is ----> 1287.18\n",
      "8) The Average Light level in GH_2 during the day is ----> 1332.92\n",
      "9) The Average Light level in GH_3 during the day is ----> 1286.5\n",
      "--------------------------------------------------------------------------------|\n",
      "10) The Average Soil_pH level in GH_1 during the day is ----> 6.88\n",
      "11) The Average Soil_pH level in GH_2 during the day is ----> 6.24\n",
      "12) The Average Soil_pH level in GH_3 during the day is ----> 6.4\n",
      "--------------------------------------------------------------------------------|\n",
      "13) The Average Soil_Moisture level in GH_1 during the day is ----> 70.94\n",
      "14) The Average Soil_Moisture level in GH_2 during the day is ----> 78.48\n",
      "15) The Average Soil_Moisture level in GH_3 during the day is ----> 75.11\n",
      "--------------------------------------------------------------------------------|\n",
      "16) The Average Temperature level in GH_1 during the day is ----> 29.73\n",
      "17) The Average Temperature level in GH_2 during the day is ----> 33.08\n",
      "18) The Average Temperature level in GH_3 during the day is ----> 29.75\n",
      "--------------------------------------------------------------------------------|\n",
      "\n"
     ]
    }
   ],
   "source": [
    "print(f\"This is your daily repory for {now.year}-{now.month}-{now.day}\")\n",
    "print(report)"
   ]
  },
  {
   "cell_type": "code",
   "execution_count": 7,
   "id": "807c5295",
   "metadata": {},
   "outputs": [],
   "source": [
    "\n",
    "subject = f\"\"\" Greenhouse Performance Report - [{now.year}-{now.month}-{now.day}] \"\"\"\n",
    "\n",
    "body = f\"\"\"\n",
    "Dear [Recipient Name/Team],\n",
    "\n",
    "This email provides an automated report on the performance of the greenhouse system .\n",
    "\n",
    "Key Performance Indicators (KPIs):\n",
    "\n",
    "{report}\n",
    "\n",
    "\n",
    "This report is automatically generated by the greenhouse monitoring system. For any questions or concerns, please contact [Contact Person/Support Team].\n",
    "\n",
    "Sincerely,\n",
    "\n",
    "[Greenhouse Monitoring System]\"\"\""
   ]
  },
  {
   "cell_type": "code",
   "execution_count": 8,
   "id": "fef34b4d",
   "metadata": {},
   "outputs": [],
   "source": [
    "send_email(sender_email, password, reciver_email, subject, body)"
   ]
  },
  {
   "cell_type": "code",
   "execution_count": 9,
   "id": "d3a6bee8",
   "metadata": {},
   "outputs": [],
   "source": [
    "spark.stop()"
   ]
  }
 ],
 "metadata": {
  "kernelspec": {
   "display_name": "base",
   "language": "python",
   "name": "python3"
  },
  "language_info": {
   "codemirror_mode": {
    "name": "ipython",
    "version": 3
   },
   "file_extension": ".py",
   "mimetype": "text/x-python",
   "name": "python",
   "nbconvert_exporter": "python",
   "pygments_lexer": "ipython3",
   "version": "3.9.7"
  }
 },
 "nbformat": 4,
 "nbformat_minor": 5
}
