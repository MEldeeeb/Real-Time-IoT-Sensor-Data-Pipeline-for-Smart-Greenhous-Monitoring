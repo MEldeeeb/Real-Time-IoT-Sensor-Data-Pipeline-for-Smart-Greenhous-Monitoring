{
 "cells": [
  {
   "cell_type": "code",
   "execution_count": 1,
   "id": "50a40b36",
   "metadata": {},
   "outputs": [],
   "source": [
    "%run 01_Credentials.ipynb\n",
    "import os \n",
    "import random\n",
    "import datetime\n",
    "import psycopg2\n",
    "from datetime import datetime"
   ]
  },
  {
   "cell_type": "code",
   "execution_count": 2,
   "id": "6def14db",
   "metadata": {},
   "outputs": [],
   "source": [
    "data_sheet = \\\n",
    "{'T': {'Sensor_Type': 'Temperature', 'Manufacturer': 'SHT31', 'Model': 'SHT31-DIS', 'Unit': '°C'}, \n",
    " 'H': {'Sensor_Type': 'Humidity', 'Manufacturer': 'SHT31', 'Model': 'SHT31-DIS', 'Unit': '%RH'}, \n",
    " 'CO2': {'Sensor_Type': 'CO2', 'Manufacturer': 'CO2-BME688', 'Model': 'BME688', 'Unit': 'ppm'}, \n",
    " 'SM': {'Sensor_Type': 'Soil_Moisture', 'Manufacturer': 'EC-5', 'Model': 'EC-5', 'Unit': '%VWC'}, \n",
    " 'PH': {'Sensor_Type': 'Soil_pH', 'Manufacturer': 'PH-20', 'Model': 'PH-20', 'Unit': 'pH'}, \n",
    " 'L': {'Sensor_Type': 'Light', 'Manufacturer': 'BH1750', 'Model': 'BH1750FVI', 'Unit': 'lux'}}"
   ]
  },
  {
   "cell_type": "code",
   "execution_count": null,
   "id": "ec233df0",
   "metadata": {
    "scrolled": false
   },
   "outputs": [],
   "source": [
    "# data_simulator is a function that generate sensor data \n",
    "# takes number of Greenhouses locations as an input to generate these data\n",
    "def data_simulator(num_of_GH_location):\n",
    "    n = int(num_of_GH_location)\n",
    "    \n",
    "    sensors_metadat = {\n",
    "        \"T\":[\"Temperature\", float(round(random.uniform(20,42),2))],\n",
    "        \"H\":[\"Humidity\", float(round(random.uniform(20,100),1))],\n",
    "        \"CO2\":[\"CO2\",random.randint(400,1800)],\n",
    "        \"SM\":[\"Soil_Moisture\", float(round(random.uniform(50,100),1))],\n",
    "        \"PH\":[\"Soil_pH\",float(round(random.uniform(3,10),1))],\n",
    "        \"L\":[\"Light\",random.randint(1200,1400)] }\n",
    "    \n",
    "    reandom_key = random.choice(list(sensors_metadat.keys()))\n",
    "    suffix = random.randint(1,n)\n",
    "\n",
    "    \n",
    "    sensor_data = {\n",
    "        \"sensor_id\": \"{}_{}\".format(reandom_key,suffix) ,\n",
    "        \"timestamp\": str(datetime.now()),\n",
    "        \"sensor_type\": sensors_metadat[reandom_key][0],\n",
    "        \"value\": sensors_metadat[reandom_key][1],\n",
    "        \"location\": \"GH_{}\".format(suffix) } \n",
    "    \n",
    "    return sensor_data"
   ]
  },
  {
   "cell_type": "code",
   "execution_count": 4,
   "id": "560f3fdf",
   "metadata": {},
   "outputs": [],
   "source": [
    "# get_time_parts is a function get_time_parts Splits a timestamp string \n",
    "# into its fundamental parts: weekday,month,day,hour,minute,second,year    \n",
    "def get_time_parts(time):\n",
    "    try:\n",
    "        time_obj = datetime.strptime(time,  \"%Y-%m-%d %H:%M:%S.%f\")\n",
    "        weekday ={\n",
    "            0:\"Monday\", 1:\"Tuesday\", 2:\"Wednesday\", 3:\"Thursday\",\n",
    "            4:\"Friday\", 5:\"Saturday\", 6:\"Sunday\"}\n",
    "        \n",
    "        return (time,weekday[time_obj.weekday()],time_obj.month,\n",
    "                time_obj.day,time_obj.hour,time_obj.minute,\n",
    "                time_obj.second,time_obj.year)\n",
    "    except ValueError:\n",
    "        print(\"Invalid time string format. Expected format: 'Weekday Month Day HH:MM:SS Year'\")\n",
    "        return None"
   ]
  },
  {
   "cell_type": "code",
   "execution_count": 5,
   "id": "44e41e52",
   "metadata": {},
   "outputs": [],
   "source": [
    "def connect_to_db (db_name):\n",
    "    try:\n",
    "        print(\"Connecting to Billing_DWH..... \")\n",
    "        conn = psycopg2.connect(\n",
    "            user = os.environ.get('user_name'),\n",
    "            password = os.environ.get('Password_GH_Sensors_DWH'),\n",
    "            host = os.environ.get('db_host_name'),\n",
    "            port = os.environ.get('db_port'),\n",
    "            database = db_name\n",
    "        )\n",
    "        print (\"Connection to PostgerSQL is done successfuly\") \n",
    "        cur = conn.cursor()\n",
    "        print (\"conn and cur are created and successfuly returned\")\n",
    "        return conn ,cur\n",
    "    except:\n",
    "        print(\"Cann't connect to PostgerSQL\")\n",
    " "
   ]
  },
  {
   "cell_type": "code",
   "execution_count": 6,
   "id": "cc93c65a",
   "metadata": {},
   "outputs": [],
   "source": [
    "def insert_into_time_dimension(timestamp,cur,conn):\n",
    "    data_to_time_dimension = \"insert into time_dimension values {} ON CONFLICT (timestamp) DO NOTHING;\".format(get_time_parts(timestamp))\n",
    "    cur.execute(data_to_time_dimension)\n",
    "    conn.commit()"
   ]
  },
  {
   "cell_type": "code",
   "execution_count": 7,
   "id": "d25ac55a",
   "metadata": {},
   "outputs": [],
   "source": [
    "def insert_into_location_dimension(location,conn,cur):\n",
    "    l_n = int(location.split(\"_\")[-1])\n",
    "    description = \"Greenhouse number {} on the farm\".format(l_n)\n",
    "    location_dimension = \"insert into location_dimension values {} ON CONFLICT (location_id) DO NOTHING;\".format((location,description))\n",
    "    cur.execute(location_dimension)\n",
    "    conn.commit()"
   ]
  },
  {
   "cell_type": "code",
   "execution_count": 8,
   "id": "170e3f66",
   "metadata": {},
   "outputs": [],
   "source": [
    "def insert_into_sensor_dimension(sensor_id,conn,cur):\n",
    "    Sensor_sympol = str(sensor_id).strip().split(\"_\")[0]\n",
    "    data = [sensor_id] + list(data_sheet[Sensor_sympol].values())\n",
    "    sensor_dimension = \"insert into sensor_dimension values {} ON CONFLICT (sensor_id) DO NOTHING;\".format(tuple(data))\n",
    "    cur.execute(sensor_dimension)\n",
    "    conn.commit()"
   ]
  },
  {
   "cell_type": "code",
   "execution_count": 9,
   "id": "a11ab3e6",
   "metadata": {},
   "outputs": [],
   "source": [
    "def insert_into_sensor_measurements(message,conn,cur):\n",
    "    data = tuple (message.values())\n",
    "    sensor_measurements = \"insert into sensor_measurements(sensor_id,timestamp,sensor_type,value,location_id) values {}\".format(data)\n",
    "    cur.execute(sensor_measurements)\n",
    "    conn.commit()"
   ]
  }
 ],
 "metadata": {
  "kernelspec": {
   "display_name": "base",
   "language": "python",
   "name": "python3"
  },
  "language_info": {
   "codemirror_mode": {
    "name": "ipython",
    "version": 3
   },
   "file_extension": ".py",
   "mimetype": "text/x-python",
   "name": "python",
   "nbconvert_exporter": "python",
   "pygments_lexer": "ipython3",
   "version": "3.9.7"
  }
 },
 "nbformat": 4,
 "nbformat_minor": 5
}
