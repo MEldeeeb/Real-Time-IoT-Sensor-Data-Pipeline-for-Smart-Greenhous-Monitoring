{
 "cells": [
  {
   "cell_type": "code",
   "execution_count": 1,
   "id": "7f12cba6",
   "metadata": {},
   "outputs": [],
   "source": [
    "from kafka import KafkaConsumer # type: ignore\n",
    "import datetime\n",
    "from datetime import datetime\n",
    "import ast\n",
    "%run 03_HDFS_Data_lake.ipynb\n",
    "%run 05_utils.ipynb"
   ]
  },
  {
   "cell_type": "code",
   "execution_count": 2,
   "id": "8a0150a4",
   "metadata": {},
   "outputs": [
    {
     "name": "stdout",
     "output_type": "stream",
     "text": [
      "Connection to sensors_data topic has been created successfuly\n",
      "HDFS Insecure Client has been created and returned successfuly\n"
     ]
    }
   ],
   "source": [
    "consumer_2 = KafkaConsumer(\"sensors_data\")\n",
    "print(\"Connection to sensors_data topic has been created successfuly\")\n",
    "client = hdfs_InsecureClient() # type: ignore"
   ]
  },
  {
   "cell_type": "code",
   "execution_count": 3,
   "id": "d02e368b",
   "metadata": {},
   "outputs": [],
   "source": [
    "now = datetime.now()\n",
    "file_path = \"/Sensors_DL/{}/{}/day_{}.csv\".format(now.year,now.month,now.day)"
   ]
  },
  {
   "cell_type": "code",
   "execution_count": 4,
   "id": "a4904f71",
   "metadata": {},
   "outputs": [],
   "source": [
    "try:\n",
    "    with client.write(file_path,encoding='utf-8',overwrite=False) as writer:\n",
    "        for msg in consumer_2:\n",
    "            current_time = datetime.now()\n",
    "            if current_time.day != now.day or current_time.month != now.month or current_time.year != now.year:\n",
    "                # If the day has changed, close the current file and create a new one\n",
    "                writer.close() \n",
    "                now = current_time\n",
    "                file_path = \"/Sensors_DL/{}/{}/day_{}.csv\".format(now.year,now.month,now.day)\n",
    "                   \n",
    "                # Extract and decode information from kafka consumer \n",
    "                message_str = msg.value.decode(\"utf-8\")\n",
    "                message = ast.literal_eval(message_str)\n",
    "                data = \"{},{},{},{},{} \\n\".format(*list(message.values()))\n",
    "                writer.write(data)  \n",
    "            # Extract and decode information from kafka consumer \n",
    "            message_str = msg.value.decode(\"utf-8\")\n",
    "            message = ast.literal_eval(message_str)\n",
    "            data = \"{},{},{},{},{} \\n\".format(*list(message.values()))\n",
    "            writer.write(data)    \n",
    "except KeyboardInterrupt:\n",
    "    pass\n",
    "except:\n",
    "    pass"
   ]
  },
  {
   "cell_type": "code",
   "execution_count": null,
   "id": "54b97eda",
   "metadata": {},
   "outputs": [
    {
     "data": {
      "text/plain": [
       "True"
      ]
     },
     "execution_count": 14,
     "metadata": {},
     "output_type": "execute_result"
    }
   ],
   "source": [
    "client.delete(\"/Sensors_DL/2025/6/day_19.csv\",recursive=True)\n",
    "\n",
    "#client.delete(\"/Daily_reports\",recursive=True)"
   ]
  }
 ],
 "metadata": {
  "kernelspec": {
   "display_name": "base",
   "language": "python",
   "name": "python3"
  },
  "language_info": {
   "codemirror_mode": {
    "name": "ipython",
    "version": 3
   },
   "file_extension": ".py",
   "mimetype": "text/x-python",
   "name": "python",
   "nbconvert_exporter": "python",
   "pygments_lexer": "ipython3",
   "version": "3.9.7"
  }
 },
 "nbformat": 4,
 "nbformat_minor": 5
}
