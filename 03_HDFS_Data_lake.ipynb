{
 "cells": [
  {
   "cell_type": "code",
   "execution_count": 1,
   "id": "184e07ca",
   "metadata": {},
   "outputs": [],
   "source": [
    "from hdfs import InsecureClient"
   ]
  },
  {
   "cell_type": "code",
   "execution_count": 2,
   "id": "f7d94076",
   "metadata": {},
   "outputs": [],
   "source": [
    "def hdfs_InsecureClient():\n",
    "    try: \n",
    "        client = InsecureClient('http://localhost:50070', user='dell')\n",
    "        print (\"HDFS Insecure Client has been created and returned successfuly\")\n",
    "        return client\n",
    "    except:\n",
    "        print(\"connecting to localhost:50070 failed\")"
   ]
  },
  {
   "cell_type": "code",
   "execution_count": 3,
   "id": "03a5147c",
   "metadata": {},
   "outputs": [],
   "source": [
    "def read(file_path, hdfs_client):\n",
    "    with hdfs_client.read(file_path) as reder:\n",
    "        f_content = reder.read()\n",
    "        return f_content\n",
    "        "
   ]
  },
  {
   "cell_type": "code",
   "execution_count": 4,
   "id": "f4bfec78",
   "metadata": {},
   "outputs": [],
   "source": [
    "def content_of_dir(dir_path,hdfs_client):\n",
    "    # List files in a directory\n",
    "    print(f\"list of folders in {dir_path}:\")\n",
    "    for file in hdfs_client.list(dir_path):\n",
    "        print(file)"
   ]
  },
  {
   "cell_type": "markdown",
   "id": "db757c7c",
   "metadata": {},
   "source": []
  }
 ],
 "metadata": {
  "kernelspec": {
   "display_name": "base",
   "language": "python",
   "name": "python3"
  },
  "language_info": {
   "codemirror_mode": {
    "name": "ipython",
    "version": 3
   },
   "file_extension": ".py",
   "mimetype": "text/x-python",
   "name": "python",
   "nbconvert_exporter": "python",
   "pygments_lexer": "ipython3",
   "version": "3.9.7"
  }
 },
 "nbformat": 4,
 "nbformat_minor": 5
}
